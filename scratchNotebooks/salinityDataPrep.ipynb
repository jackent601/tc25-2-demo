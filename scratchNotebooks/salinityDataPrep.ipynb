{
 "cells": [
  {
   "cell_type": "markdown",
   "id": "178d3b4e",
   "metadata": {},
   "source": [
    "This notebook contains code to process salinity data that has been downloaded from:\n",
    "- https://data.marine.copernicus.eu/product/GLOBAL_ANALYSISFORECAST_PHY_001_024/download?dataset=cmems_mod_glo_phy-so_anfc_0.083deg_P1D-m_202406. \n",
    "\n",
    "A two week sample of that data over a region of interest is avaiable in ./environmentalData for between 5 and 10 m. \n",
    "\n",
    "Tool 1: takes the .nc file and outputs geojson depth files of the whole timeframe. The geojson is readable by geoPandas, and can then be used to both visulize the variable in a given area and is available for interrogation by other layers and processes. Grid spacing is 0.083 degrees. \n",
    "\n",
    "Tool 2: takes the .nc file and outputs a gif of a given depth over the timeframe. This is just for fun!"
   ]
  },
  {
   "cell_type": "code",
   "execution_count": 2,
   "id": "744088d8",
   "metadata": {},
   "outputs": [
    {
     "name": "stdout",
     "output_type": "stream",
     "text": [
      "Exported GeoJSON for depth 5.078 m to C:/Users/tdow214/PycharmProjects/OceanData/geojson_by_depth\\salinity_depth_5.078m.geojson\n",
      "Exported GeoJSON for depth 6.441 m to C:/Users/tdow214/PycharmProjects/OceanData/geojson_by_depth\\salinity_depth_6.441m.geojson\n",
      "Exported GeoJSON for depth 7.930 m to C:/Users/tdow214/PycharmProjects/OceanData/geojson_by_depth\\salinity_depth_7.930m.geojson\n",
      "Exported GeoJSON for depth 9.573 m to C:/Users/tdow214/PycharmProjects/OceanData/geojson_by_depth\\salinity_depth_9.573m.geojson\n"
     ]
    }
   ],
   "source": [
    "\"\"\"\n",
    "Tool 1: depth slices\n",
    "\"\"\"\n",
    "\n",
    "import xarray as xr\n",
    "import geopandas as gpd\n",
    "from shapely.geometry import Point\n",
    "import pandas as pd\n",
    "import os\n",
    "\n",
    "# Replace with your actual NetCDF file path if different\n",
    "home_dir = os.getcwd()\n",
    "file_path = os.path.join(home_dir, 'environmentalData', 'cmems_mod_glo_phy-so_anfc_0.083deg_P1D-m_1749908476181.nc')\n",
    "\n",
    "# Open the dataset\n",
    "ds = xr.open_dataset(file_path)\n",
    "\n",
    "# Extract salinity variable\n",
    "salinity = ds['so']\n",
    "\n",
    "# Get all depth values\n",
    "depth_values = ds['depth'].values\n",
    "\n",
    "# Create output directory\n",
    "output_dir = os.path.join(home_dir, 'geojson_by_depth')\n",
    "os.makedirs(output_dir, exist_ok=True)\n",
    "\n",
    "# Loop through each depth level\n",
    "for depth_val in depth_values:\n",
    "    # Select salinity at this depth\n",
    "    salinity_at_depth = salinity.sel(depth=depth_val)\n",
    "\n",
    "    # Convert to DataFrame and reset index\n",
    "    df = salinity_at_depth.to_dataframe().reset_index().dropna(subset=['so'])\n",
    "\n",
    "    # Add depth column\n",
    "    df['depth'] = float(depth_val)\n",
    "\n",
    "    # Create geometry from lat/lon\n",
    "    geometry = [Point(xy) for xy in zip(df['longitude'], df['latitude'])]\n",
    "\n",
    "    # Create GeoDataFrame\n",
    "    gdf = gpd.GeoDataFrame(df, geometry=geometry)\n",
    "\n",
    "    # Keep relevant columns\n",
    "    gdf = gdf[['so', 'time', 'depth', 'geometry']]\n",
    "\n",
    "    # Define output file path\n",
    "    output_file = os.path.join(output_dir, f'salinity_depth_{depth_val:.3f}m.geojson')\n",
    "\n",
    "    # Export to GeoJSON\n",
    "    gdf.to_file(output_file, driver='GeoJSON')\n",
    "\n",
    "    # Print confirmation\n",
    "    print(f\"Exported GeoJSON for depth {depth_val:.3f} m to {output_file}\")\n"
   ]
  },
  {
   "cell_type": "code",
   "execution_count": 3,
   "id": "dfd43387",
   "metadata": {},
   "outputs": [
    {
     "name": "stdout",
     "output_type": "stream",
     "text": [
      "Animated GIF saved as salinity_animation.gif\n"
     ]
    }
   ],
   "source": [
    "\"\"\"\n",
    "Tool 2: GIF through time of the data for a given depth\n",
    "\"\"\"\n",
    "\n",
    "import xarray as xr\n",
    "import matplotlib.pyplot as plt\n",
    "import os\n",
    "import pandas as pd\n",
    "import imageio.v2 as imageio\n",
    "\n",
    "# Set your NetCDF file path\n",
    "home_dir = os.getcwd()\n",
    "file_path = os.path.join(home_dir, 'environmentalData', 'cmems_mod_glo_phy-so_anfc_0.083deg_P1D-m_1749908476181.nc')\n",
    "\n",
    "# Output directory for daily plots\n",
    "output_dir = 'salinity_frames'\n",
    "os.makedirs(output_dir, exist_ok=True)\n",
    "\n",
    "# Open dataset\n",
    "ds = xr.open_dataset(file_path)\n",
    "\n",
    "# Choose a fixed depth index (e.g., surface)\n",
    "depth_index = 0\n",
    "depth_value = float(ds['depth'].isel(depth=depth_index).values)\n",
    "\n",
    "# Store image paths\n",
    "image_files = []\n",
    "\n",
    "# Loop through each time step\n",
    "for t in range(ds.sizes['time']):\n",
    "    salinity = ds['so'].isel(time=t, depth=depth_index)\n",
    "    time_value = pd.to_datetime(ds['time'].isel(time=t).values)\n",
    "\n",
    "    df = salinity.to_dataframe().reset_index().dropna(subset=['so'])\n",
    "\n",
    "    fig, ax = plt.subplots(figsize=(10, 8))\n",
    "    sc = ax.scatter(df['longitude'], df['latitude'], c=df['so'], cmap='viridis', s=10)\n",
    "    plt.colorbar(sc, ax=ax, label='Salinity (PSU)')\n",
    "    ax.set_title(f'Salinity at {depth_value:.3f} m on {time_value.date()}')\n",
    "    ax.set_xlabel('Longitude')\n",
    "    ax.set_ylabel('Latitude')\n",
    "    plt.grid(True)\n",
    "\n",
    "    image_path = os.path.join(output_dir, f'salinity_{t:03d}.png')\n",
    "    plt.savefig(image_path)\n",
    "    plt.close()\n",
    "    image_files.append(image_path)\n",
    "\n",
    "# Create animated GIF\n",
    "gif_path = 'salinity_animation.gif'\n",
    "with imageio.get_writer(gif_path, mode='I', duration=0.8) as writer:\n",
    "    for filename in image_files:\n",
    "        image = imageio.imread(filename)\n",
    "        writer.append_data(image)\n",
    "\n",
    "print(f\"Animated GIF saved as {gif_path}\")"
   ]
  }
 ],
 "metadata": {
  "kernelspec": {
   "display_name": "Python 3 (ipykernel)",
   "language": "python",
   "name": "python3"
  },
  "language_info": {
   "codemirror_mode": {
    "name": "ipython",
    "version": 3
   },
   "file_extension": ".py",
   "mimetype": "text/x-python",
   "name": "python",
   "nbconvert_exporter": "python",
   "pygments_lexer": "ipython3",
   "version": "3.10.10"
  }
 },
 "nbformat": 4,
 "nbformat_minor": 5
}
